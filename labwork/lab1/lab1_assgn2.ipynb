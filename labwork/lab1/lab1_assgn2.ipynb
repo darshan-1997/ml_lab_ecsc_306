{
 "cells": [
  {
   "cell_type": "code",
   "execution_count": 11,
   "metadata": {
    "collapsed": true
   },
   "outputs": [],
   "source": [
    "import tensorflow as tf\n",
    "import numpy as np"
   ]
  },
  {
   "cell_type": "code",
   "execution_count": 12,
   "metadata": {
    "collapsed": true
   },
   "outputs": [],
   "source": [
    "from statistics import mean"
   ]
  },
  {
   "cell_type": "code",
   "execution_count": 17,
   "metadata": {},
   "outputs": [
    {
     "data": {
      "text/plain": [
       "2.5"
      ]
     },
     "execution_count": 17,
     "metadata": {},
     "output_type": "execute_result"
    }
   ],
   "source": [
    "a=[1,2,3,4]\n",
    "mean(a)\n"
   ]
  },
  {
   "cell_type": "code",
   "execution_count": 16,
   "metadata": {},
   "outputs": [
    {
     "data": {
      "text/plain": [
       "6.5"
      ]
     },
     "execution_count": 16,
     "metadata": {},
     "output_type": "execute_result"
    }
   ],
   "source": [
    "b=[5,6,7,8]\n",
    "mean(b)\n"
   ]
  },
  {
   "cell_type": "code",
   "execution_count": 1,
   "metadata": {},
   "outputs": [
    {
     "name": "stdout",
     "output_type": "stream",
     "text": [
      "19.72\n",
      "53.0\n",
      "[[ -8.72000122  12.84000015  -4.12000084]]\n",
      "257.878\n"
     ]
    }
   ],
   "source": [
    "import tensorflow as tf\n",
    "\n",
    "with tf.name_scope(\"var\"):\n",
    "    with tf.name_scope(\"x_mean\"):\n",
    "        a=tf.constant([11.0,32.56,15.6],shape=[1,3],name='a')\n",
    "        b=tf.constant([45.0,58.0,56.0],shape=[1,3],name='b')\n",
    "        x=tf.reduce_mean(a)\n",
    "        sess=tf.Session()\n",
    "        print(sess.run(x))\n",
    "        \n",
    "with tf.name_scope(\"y_mean\"):\n",
    "    y=tf.reduce_mean(b)\n",
    "    sess=tf.Session()\n",
    "    print(sess.run(y))\n",
    "\n",
    "    d=tf.subtract(a,x)\n",
    "    sess=tf.Session()\n",
    "    print(sess.run(d ))\n",
    "\n",
    "    e=tf.square(d)\n",
    "    f=tf.reduce_sum(e)\n",
    "    sess=tf.Session()\n",
    "    print(sess.run(f))\n",
    "\n"
   ]
  },
  {
   "cell_type": "code",
   "execution_count": 2,
   "metadata": {},
   "outputs": [
    {
     "name": "stdout",
     "output_type": "stream",
     "text": [
      "121.6\n",
      "0.47154\n",
      "0.47154\n"
     ]
    }
   ],
   "source": [
    "with tf.name_scope(\"covariance\"):\n",
    "    g=tf.subtract(b,y)\n",
    "    sess=tf.Session()\n",
    "    g=tf.multiply(d,g)\n",
    "    h=tf.reduce_sum(g)\n",
    "    print(sess.run(h))\n",
    "\n",
    "with tf.name_scope(\"value_of_c\"):\n",
    "    j=tf.divide(h,f)\n",
    "    print(sess.run(j))\n",
    "\n",
    "with tf.name_scope(\"value_m\"):\n",
    "    wri=tf.summary.FileWriter('/home/ise/darsh-mllab-46/lab1',sess.graph)\n",
    "    i=tf.multiply(j,x)\n",
    "    k=tf.subtract(y,i)\n",
    "    print(sess.run(j))"
   ]
  },
  {
   "cell_type": "code",
   "execution_count": null,
   "metadata": {
    "collapsed": true
   },
   "outputs": [],
   "source": []
  }
 ],
 "metadata": {
  "kernelspec": {
   "display_name": "Python 3",
   "language": "python",
   "name": "python3"
  },
  "language_info": {
   "codemirror_mode": {
    "name": "ipython",
    "version": 3
   },
   "file_extension": ".py",
   "mimetype": "text/x-python",
   "name": "python",
   "nbconvert_exporter": "python",
   "pygments_lexer": "ipython3",
   "version": "3.6.1"
  }
 },
 "nbformat": 4,
 "nbformat_minor": 2
}
