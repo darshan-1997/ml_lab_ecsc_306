{
 "cells": [
  {
   "cell_type": "code",
   "execution_count": 3,
   "metadata": {},
   "outputs": [
    {
     "name": "stdout",
     "output_type": "stream",
     "text": [
      "91\n"
     ]
    }
   ],
   "source": [
    "import tensorflow as tf\n",
    "\n",
    "c1=tf.constant(3)\n",
    "c2=tf.constant(4)\n",
    "with tf.name_scope(\"ADD\"):\n",
    "    c3=tf.add(c1,c2)\n",
    "    with tf.name_scope(\"multiply\"):\n",
    "        c4=tf.multiply(c1,c1)\n",
    "        c5=tf.multiply(c2,c2)\n",
    "        c6=tf.multiply(c1,c2)\n",
    "        with tf.name_scope(\"equation\"):\n",
    "            c7=c4+c5-c6\n",
    "            c8=tf.multiply(c3,c7)\n",
    "sess=tf.Session()\n",
    "print(sess.run(c8))\n",
    "writer = tf.summary.FileWriter(\"/tmp/tboard/b\", sess.graph)\n"
   ]
  },
  {
   "cell_type": "code",
   "execution_count": null,
   "metadata": {
    "collapsed": true
   },
   "outputs": [],
   "source": []
  }
 ],
 "metadata": {
  "kernelspec": {
   "display_name": "Python 3",
   "language": "python",
   "name": "python3"
  },
  "language_info": {
   "codemirror_mode": {
    "name": "ipython",
    "version": 3
   },
   "file_extension": ".py",
   "mimetype": "text/x-python",
   "name": "python",
   "nbconvert_exporter": "python",
   "pygments_lexer": "ipython3",
   "version": "3.6.1"
  }
 },
 "nbformat": 4,
 "nbformat_minor": 2
}
